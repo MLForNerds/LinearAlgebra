{
 "cells": [
  {
   "cell_type": "markdown",
   "metadata": {},
   "source": [
    "### SVD (Singular Value Decomposition)\n",
    "\n",
    "- Matrix Decomposition\n",
    "- Data Reduction\n",
    "- Data driven generalization of FFT\n",
    "- Linear system of eqs **Ax=B** for non square A matrix\n",
    "- Basis for PCA\n",
    "- Correlation\n",
    "\n",
    "**Uses:**\n",
    "- Page Rank Algorithm\n",
    "- Facial Recognition\n",
    "- Recommender Systems\n"
   ]
  },
  {
   "cell_type": "code",
   "execution_count": null,
   "metadata": {},
   "outputs": [],
   "source": []
  }
 ],
 "metadata": {
  "language_info": {
   "name": "python"
  }
 },
 "nbformat": 4,
 "nbformat_minor": 2
}
