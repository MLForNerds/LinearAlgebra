{
 "cells": [
  {
   "cell_type": "markdown",
   "metadata": {},
   "source": [
    "### SVD (Singular Value Decomposition)\n",
    "\n",
    "- Matrix Decomposition\n",
    "- Data Reduction\n",
    "- Data driven generalization of FFT\n",
    "- Linear system of eqs **Ax=B** for non square A matrix\n",
    "- Basis for PCA\n",
    "- Correlation\n",
    "\n",
    "**Uses:**\n",
    "- Page Rank Algorithm\n",
    "- Facial Recognition\n",
    "- Recommender Systems\n"
   ]
  },
  {
   "cell_type": "markdown",
   "metadata": {},
   "source": [
    "![Alt Text](Linear_Algebra.jpeg)\n",
    "![Alt Text](Linear_Algebra2.jpeg)\n",
    "![Alt Text](Linear_Algebra3.jpeg)\n",
    "![Alt Text](Linear_Algebra4.jpeg)\n",
    "![Alt Text](Linear_Algebra5.jpeg)"
   ]
  },
  {
   "cell_type": "code",
   "execution_count": 1,
   "metadata": {},
   "outputs": [],
   "source": [
    "import numpy as np"
   ]
  },
  {
   "cell_type": "code",
   "execution_count": 2,
   "metadata": {},
   "outputs": [],
   "source": [
    "X = np.random.rand(5, 3)\n",
    "U, S, V = np.linalg.svd(X, full_matrices=True)\n",
    "Uhat, Shat, Vhat = np.linalg.svd(X, full_matrices=False)  # economy SVD"
   ]
  },
  {
   "cell_type": "code",
   "execution_count": 5,
   "metadata": {},
   "outputs": [
    {
     "name": "stdout",
     "output_type": "stream",
     "text": [
      "[[-0.51776933 -0.16644234 -0.44090059 -0.69560586 -0.16109322]\n",
      " [-0.21025912  0.8366123  -0.44788707  0.22291652  0.07467508]\n",
      " [-0.35252387 -0.5081222  -0.44335814  0.62313492  0.18076281]\n",
      " [-0.7305582   0.11545762  0.61145755  0.17884858 -0.21699563]\n",
      " [-0.17238812  0.02929474  0.18589532 -0.21484128  0.94271433]]\n",
      "[1.90969205 0.71613383 0.31031824]\n",
      "[[-0.32190766 -0.54494291 -0.77421747]\n",
      " [ 0.71249281  0.39907834 -0.57713991]\n",
      " [-0.62348172  0.73741013 -0.25980153]]\n"
     ]
    }
   ],
   "source": [
    "print(U)\n",
    "print(S)\n",
    "print(V)"
   ]
  },
  {
   "cell_type": "code",
   "execution_count": 6,
   "metadata": {},
   "outputs": [
    {
     "name": "stdout",
     "output_type": "stream",
     "text": [
      "[[-0.51776933 -0.16644234 -0.44090059]\n",
      " [-0.21025912  0.8366123  -0.44788707]\n",
      " [-0.35252387 -0.5081222  -0.44335814]\n",
      " [-0.7305582   0.11545762  0.61145755]\n",
      " [-0.17238812  0.02929474  0.18589532]]\n",
      "[1.90969205 0.71613383 0.31031824]\n",
      "[[-0.32190766 -0.54494291 -0.77421747]\n",
      " [ 0.71249281  0.39907834 -0.57713991]\n",
      " [-0.62348172  0.73741013 -0.25980153]]\n"
     ]
    }
   ],
   "source": [
    "print(Uhat)\n",
    "print(Shat)\n",
    "print(Vhat)\n"
   ]
  },
  {
   "cell_type": "code",
   "execution_count": null,
   "metadata": {},
   "outputs": [],
   "source": []
  }
 ],
 "metadata": {
  "kernelspec": {
   "display_name": "Python 3",
   "language": "python",
   "name": "python3"
  },
  "language_info": {
   "codemirror_mode": {
    "name": "ipython",
    "version": 3
   },
   "file_extension": ".py",
   "mimetype": "text/x-python",
   "name": "python",
   "nbconvert_exporter": "python",
   "pygments_lexer": "ipython3",
   "version": "3.12.2"
  }
 },
 "nbformat": 4,
 "nbformat_minor": 2
}
